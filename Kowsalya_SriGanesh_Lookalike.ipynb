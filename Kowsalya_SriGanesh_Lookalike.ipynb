{
  "nbformat": 4,
  "nbformat_minor": 0,
  "metadata": {
    "colab": {
      "provenance": [],
      "authorship_tag": "ABX9TyNV7n6lLTfpng/KAJ90pwZU",
      "include_colab_link": true
    },
    "kernelspec": {
      "name": "python3",
      "display_name": "Python 3"
    },
    "language_info": {
      "name": "python"
    }
  },
  "cells": [
    {
      "cell_type": "markdown",
      "metadata": {
        "id": "view-in-github",
        "colab_type": "text"
      },
      "source": [
        "<a href=\"https://colab.research.google.com/github/Kowsalyasriganesh/zeotap/blob/main/Kowsalya_SriGanesh_Lookalike.ipynb\" target=\"_parent\"><img src=\"https://colab.research.google.com/assets/colab-badge.svg\" alt=\"Open In Colab\"/></a>"
      ]
    },
    {
      "cell_type": "code",
      "execution_count": 1,
      "metadata": {
        "id": "GYeiyC8sJ7lv"
      },
      "outputs": [],
      "source": [
        "import pandas as pd\n",
        "import numpy as np\n",
        "from sklearn.preprocessing import StandardScaler\n",
        "from sklearn.metrics.pairwise import cosine_similarity\n",
        "from sklearn.cluster import KMeans\n",
        "from sklearn.metrics import davies_bouldin_score\n",
        "import matplotlib.pyplot as plt\n",
        "import seaborn as sns\n",
        "from datetime import datetime"
      ]
    },
    {
      "cell_type": "code",
      "source": [
        "customers_df = pd.read_csv('Customers.csv')\n",
        "products_df = pd.read_csv('Products.csv')\n",
        "transactions_df = pd.read_csv('Transactions.csv')"
      ],
      "metadata": {
        "id": "g6RJld3_KF2X"
      },
      "execution_count": 2,
      "outputs": []
    },
    {
      "cell_type": "code",
      "source": [
        "def build_lookalike_model():\n",
        "    # Merge customer and transaction data\n",
        "    customer_transactions = transactions_df.groupby('CustomerID').agg({'TotalValue': 'sum', 'Quantity': 'sum'}).reset_index()\n",
        "    customer_profiles = customers_df.merge(customer_transactions, on='CustomerID', how='left').fillna(0)\n",
        "\n",
        "    # Standardize numeric features\n",
        "    scaler = StandardScaler()\n",
        "    features = scaler.fit_transform(customer_profiles[['TotalValue', 'Quantity']])\n",
        "\n",
        "    # Calculate cosine similarity\n",
        "    similarity = cosine_similarity(features)\n",
        "    similarity_df = pd.DataFrame(similarity, index=customer_profiles['CustomerID'], columns=customer_profiles['CustomerID'])\n",
        "\n",
        "    # Get top 3 similar customers for each of the first 20 customers\n",
        "    lookalike_dict = {}\n",
        "    for customer_id in customer_profiles['CustomerID'][:20]:\n",
        "        similar_customers = similarity_df[customer_id].sort_values(ascending=False).iloc[1:4]\n",
        "        lookalike_dict[customer_id] = list(zip(similar_customers.index, similar_customers.values))\n",
        "\n",
        "    # Save lookalike results\n",
        "    lookalike_df = pd.DataFrame({\"CustomerID\": lookalike_dict.keys(), \"SimilarCustomers\": lookalike_dict.values()})\n",
        "    lookalike_df.to_csv('Lookalike.csv', index=False)\n",
        "\n",
        "print(\"Lookalike recommendations saved to Lookalike.csv\")"
      ],
      "metadata": {
        "colab": {
          "base_uri": "https://localhost:8080/"
        },
        "id": "UitqFKdAKMF2",
        "outputId": "73440e29-e5a6-4a55-8ead-cc8d42ecde3b"
      },
      "execution_count": 4,
      "outputs": [
        {
          "output_type": "stream",
          "name": "stdout",
          "text": [
            "Lookalike recommendations saved to Lookalike.csv\n"
          ]
        }
      ]
    }
  ]
}